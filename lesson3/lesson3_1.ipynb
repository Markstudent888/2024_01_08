{
 "cells": [
  {
   "cell_type": "code",
   "execution_count": 1,
   "metadata": {},
   "outputs": [
    {
     "name": "stdout",
     "output_type": "stream",
     "text": [
      "Hello! Python!\n"
     ]
    }
   ],
   "source": [
    "print(\"Hello! Python!\")"
   ]
  },
  {
   "cell_type": "code",
   "execution_count": 2,
   "metadata": {},
   "outputs": [
    {
     "data": {
      "text/plain": [
       "369729637649726772657187905628805440595668764281741102430259972423552570455277523421410650010128232727940978889548326540119429996769494359451621570193644014418071060667659301384999779999159200499899"
      ]
     },
     "execution_count": 2,
     "metadata": {},
     "output_type": "execute_result"
    }
   ],
   "source": [
    "99**99"
   ]
  },
  {
   "cell_type": "code",
   "execution_count": 5,
   "metadata": {},
   "outputs": [
    {
     "name": "stdout",
     "output_type": "stream",
     "text": [
      "11\n"
     ]
    }
   ],
   "source": [
    "x=2*(1+2)**2-2**2*2+1\n",
    "print(x)"
   ]
  },
  {
   "cell_type": "code",
   "execution_count": 7,
   "metadata": {},
   "outputs": [
    {
     "data": {
      "text/plain": [
       "5"
      ]
     },
     "execution_count": 7,
     "metadata": {},
     "output_type": "execute_result"
    }
   ],
   "source": [
    "n=5\n",
    "n+5\n",
    "n"
   ]
  },
  {
   "cell_type": "code",
   "execution_count": 10,
   "metadata": {},
   "outputs": [
    {
     "name": "stdout",
     "output_type": "stream",
     "text": [
      "15\n"
     ]
    }
   ],
   "source": [
    "n+=5\n",
    "print (n)"
   ]
  },
  {
   "cell_type": "code",
   "execution_count": 6,
   "metadata": {},
   "outputs": [
    {
     "data": {
      "text/plain": [
       "10"
      ]
     },
     "execution_count": 6,
     "metadata": {},
     "output_type": "execute_result"
    }
   ],
   "source": [
    "2*(1+2)**2-2**2*2"
   ]
  },
  {
   "cell_type": "code",
   "execution_count": 12,
   "metadata": {},
   "outputs": [
    {
     "name": "stdout",
     "output_type": "stream",
     "text": [
      "27\n"
     ]
    }
   ],
   "source": [
    "n=3\n",
    "n**=3\n",
    "print (n)"
   ]
  },
  {
   "cell_type": "code",
   "execution_count": 16,
   "metadata": {},
   "outputs": [
    {
     "data": {
      "text/plain": [
       "int"
      ]
     },
     "execution_count": 16,
     "metadata": {},
     "output_type": "execute_result"
    }
   ],
   "source": [
    "value =int(input())\n",
    "type(value)"
   ]
  },
  {
   "cell_type": "code",
   "execution_count": 17,
   "metadata": {},
   "outputs": [
    {
     "data": {
      "text/plain": [
       "float"
      ]
     },
     "execution_count": 17,
     "metadata": {},
     "output_type": "execute_result"
    }
   ],
   "source": [
    "value1 = float(input(\"請輸入浮點數:\"))\n",
    "type(value1)"
   ]
  },
  {
   "cell_type": "code",
   "execution_count": null,
   "metadata": {},
   "outputs": [],
   "source": [
    "#請輸入浮點數\n",
    "width = float(input(\"請輸入寬:\"))\n"
   ]
  },
  {
   "cell_type": "code",
   "execution_count": 18,
   "metadata": {},
   "outputs": [
    {
     "data": {
      "text/plain": [
       "3.141592653589793"
      ]
     },
     "execution_count": 18,
     "metadata": {},
     "output_type": "execute_result"
    }
   ],
   "source": [
    "import math\n",
    "math.pi"
   ]
  },
  {
   "cell_type": "code",
   "execution_count": 19,
   "metadata": {},
   "outputs": [
    {
     "name": "stdout",
     "output_type": "stream",
     "text": [
      "{\"name\": \"John\", \"age\": 30, \"married\": true, \"divorced\": false, \"children\": [\"Ann\", \"Billy\"], \"pets\": null, \"cars\": [{\"model\": \"BMW 230\", \"mpg\": 27.5}, {\"model\": \"Ford Edge\", \"mpg\": 24.1}]}\n"
     ]
    }
   ],
   "source": [
    "import json\n",
    "\n",
    "x = {\n",
    "  \"name\": \"John\",\n",
    "  \"age\": 30,\n",
    "  \"married\": True,\n",
    "  \"divorced\": False,\n",
    "  \"children\": (\"Ann\",\"Billy\"),\n",
    "  \"pets\": None,\n",
    "  \"cars\": [\n",
    "    {\"model\": \"BMW 230\", \"mpg\": 27.5},\n",
    "    {\"model\": \"Ford Edge\", \"mpg\": 24.1}\n",
    "  ]\n",
    "}\n",
    "\n",
    "print(json.dumps(x))"
   ]
  },
  {
   "cell_type": "code",
   "execution_count": 20,
   "metadata": {},
   "outputs": [
    {
     "name": "stdout",
     "output_type": "stream",
     "text": [
      "Start\n",
      "test\n",
      "End\n",
      "100\n"
     ]
    }
   ],
   "source": [
    "\n",
    "class Mydecorator:\n",
    "    def __init__(self, f) :\n",
    "        self.f = f\n",
    "\n",
    "    def __call__(self, *args, **kwargs) :\n",
    "        print(\"Start\")\n",
    "        result = self.f(*args, **kwargs)\n",
    "        print(\"End\")\n",
    "        return result\n",
    "@Mydecorator    \n",
    "def test():\n",
    "    print(\"test\")\n",
    "    return 100\n",
    "\n",
    "print(test())"
   ]
  },
  {
   "cell_type": "code",
   "execution_count": null,
   "metadata": {},
   "outputs": [],
   "source": [
    "age = input()\n",
    "if age < 18:\n",
    "    print(\"可以投票\")\n",
    "    print(\"成年人\")\n",
    "else:\n",
    "    print(\"可以投票\")\n",
    "    print(\"成年人\")\n",
    "\n"
   ]
  },
  {
   "cell_type": "code",
   "execution_count": 27,
   "metadata": {},
   "outputs": [
    {
     "name": "stdout",
     "output_type": "stream",
     "text": [
      "295\n",
      "295\n",
      "295\n"
     ]
    }
   ],
   "source": [
    "scores = int(input(\"請輸入學生分數(最高300):\"))\n",
    "print(scores)\n",
    "if scores <= 300:\n",
    "\n",
    "    is_add = input(\"學生是否符合加分條件?(y,n):\")\n",
    "    print(is_add)\n",
    "    if(is_add==\"y\"):\n",
    "        scores *= 1.05\n",
    "        if scores > 300:\n",
    "            scores = 300\n",
    "\n",
    "    print(round(scores))\n",
    "else:\n",
    "    print(\"輸入錯誤\")\n"
   ]
  },
  {
   "cell_type": "code",
   "execution_count": null,
   "metadata": {},
   "outputs": [],
   "source": [
    "distance = float(input(\"請輸入投射距離:\"))\n",
    "#巢狀判斷\n",
    "if distance >= 80:\n",
    "    if distance <= 100:\n",
    "        print(\"成功\")\n",
    "    else:\n",
    "        print(\"失敗\")\n",
    "else:\n",
    "    print(\"失敗\")"
   ]
  },
  {
   "cell_type": "code",
   "execution_count": null,
   "metadata": {},
   "outputs": [],
   "source": [
    "distance = float(input(\"請輸入投射距離:\"))\n",
    "#邏輯運算子\n",
    "if distance >= 80 and distance <= 100:\n",
    "    print(\"成功\")\n",
    "else:\n",
    "    print(\"失敗\")"
   ]
  },
  {
   "cell_type": "code",
   "execution_count": null,
   "metadata": {},
   "outputs": [],
   "source": [
    "distance = float(input(\"請輸入投射距離:\"))\n",
    "if distance < 80 or distance > 100:\n",
    "    print(\"成功\")\n",
    "else:\n",
    "    print(\"失敗\")"
   ]
  },
  {
   "cell_type": "code",
   "execution_count": 28,
   "metadata": {},
   "outputs": [
    {
     "name": "stdout",
     "output_type": "stream",
     "text": [
      "分數: 230 是否符合加分條件?(y,n):\n",
      "230\n"
     ]
    }
   ],
   "source": [
    "#學生總分為300\n",
    "#檢查必需300分以內,0分以上\n",
    "#有些學生可以加分5%\n",
    "#如果加分超過300,就以300分為準\n",
    "\n",
    "scores = int(input(\"請輸入學生分數(最高300):\"))\n",
    "\n",
    "if scores <= 300 and scores >= 0:\n",
    "    print(\"分數:\",scores, \"是否符合加分條件?(y,n):\")\n",
    "    is_add = input(\"學生是否符合加分條件?(y,n):\")\n",
    "    if(is_add==\"y\"):\n",
    "        print(\"符合加分條件\")\n",
    "        scores *= 1.05\n",
    "    else:    \n",
    "        if scores > 300:\n",
    "            scores = 300\n",
    "    \n",
    "    print(round(scores))\n",
    "    \n",
    "else:\n",
    "    print(\"輸入錯誤!\")"
   ]
  },
  {
   "cell_type": "code",
   "execution_count": 31,
   "metadata": {},
   "outputs": [
    {
     "name": "stdout",
     "output_type": "stream",
     "text": [
      "Hollo!\n",
      "沒有錯誤!\n",
      "程式結束!\n"
     ]
    }
   ],
   "source": [
    "try:\n",
    "    #2/0\n",
    "    print(\"Hollo!\")\n",
    "except:\n",
    "    print(\"錯誤!\")\n",
    "else:\n",
    "    print(\"沒有錯誤!\")\n",
    "print(\"程式結束!\")\n"
   ]
  },
  {
   "cell_type": "code",
   "execution_count": 32,
   "metadata": {},
   "outputs": [
    {
     "name": "stdout",
     "output_type": "stream",
     "text": [
      "請輸入數字!\n"
     ]
    }
   ],
   "source": [
    "#學生總分為300\n",
    "#檢查必需300分以內,0分以上\n",
    "#有些學生可以加分5%\n",
    "#如果加分超過300,就以300分為準\n",
    "try:\n",
    "    scores = int(input(\"請輸入學生分數(最高300):\"))\n",
    "    if scores <= 300 and scores >= 0:\n",
    "        is_add = input(\"學生是否符合加分條件?(y,n):\")\n",
    "        #巢狀判斷\n",
    "        if(is_add==\"y\"):\n",
    "            scores *= 1.05\n",
    "            if scores > 300:\n",
    "                scores = 300\n",
    "        print(round(scores))\n",
    "    else:\n",
    "        print(\"輸入錯誤!\")\n",
    "except:\n",
    "    print(\"請輸入數字!\")"
   ]
  },
  {
   "cell_type": "code",
   "execution_count": 37,
   "metadata": {},
   "outputs": [
    {
     "name": "stdout",
     "output_type": "stream",
     "text": [
      "由8\n",
      "到14\n",
      "合計數為: 28\n"
     ]
    }
   ],
   "source": [
    "x = int(input())\n",
    "print(f\"由{x}\")\n",
    "y = int(input())\n",
    "print(f\"到{y-1}\")\n",
    "n =0\n",
    "for i in range(1,x):\n",
    "    n += i\n",
    "\n",
    "print(\"合計數為:\",n)\n"
   ]
  }
 ],
 "metadata": {
  "kernelspec": {
   "display_name": "Python 3",
   "language": "python",
   "name": "python3"
  },
  "language_info": {
   "codemirror_mode": {
    "name": "ipython",
    "version": 3
   },
   "file_extension": ".py",
   "mimetype": "text/x-python",
   "name": "python",
   "nbconvert_exporter": "python",
   "pygments_lexer": "ipython3",
   "version": "3.10.8"
  }
 },
 "nbformat": 4,
 "nbformat_minor": 2
}
