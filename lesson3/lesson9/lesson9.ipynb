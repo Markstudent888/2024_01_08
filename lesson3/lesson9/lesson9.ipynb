{
 "cells": [
  {
   "cell_type": "code",
   "execution_count": 12,
   "metadata": {},
   "outputs": [
    {
     "name": "stdout",
     "output_type": "stream",
     "text": [
      " [元素: 1 ], [元素: 4 ], [元素: 8 ], [元素: 0 ], [元素: 1 ], [元素: 4 ], [元素: 8 ], [元素: 0 ],"
     ]
    }
   ],
   "source": [
    "listb=(1,4,8,0,a1,a2,a3,a4)\n",
    "for i in listb:\n",
    "    print(\" [元素:\",i,\"]\",end =',')"
   ]
  },
  {
   "cell_type": "code",
   "execution_count": 13,
   "metadata": {},
   "outputs": [
    {
     "name": "stdout",
     "output_type": "stream",
     "text": [
      "artificial\n"
     ]
    }
   ],
   "source": [
    "codes ={'ad':'adition',\n",
    "        'art':'artificial',\n",
    "        'pr':'prove'}\n",
    "print(codes['art'])"
   ]
  },
  {
   "cell_type": "code",
   "execution_count": 14,
   "metadata": {},
   "outputs": [
    {
     "data": {
      "text/plain": [
       "{1, 2, 6, 9}"
      ]
     },
     "execution_count": 14,
     "metadata": {},
     "output_type": "execute_result"
    }
   ],
   "source": [
    "set1 ={1,2,6,9}\n",
    "set1"
   ]
  },
  {
   "cell_type": "code",
   "execution_count": 1,
   "metadata": {},
   "outputs": [
    {
     "ename": "NameError",
     "evalue": "name 'redis_conn' is not defined",
     "output_type": "error",
     "traceback": [
      "\u001b[1;31m---------------------------------------------------------------------------\u001b[0m",
      "\u001b[1;31mNameError\u001b[0m                                 Traceback (most recent call last)",
      "Cell \u001b[1;32mIn[1], line 7\u001b[0m\n\u001b[0;32m      4\u001b[0m english \u001b[38;5;241m=\u001b[39m \u001b[38;5;241m92\u001b[39m\n\u001b[0;32m      5\u001b[0m math \u001b[38;5;241m=\u001b[39m \u001b[38;5;241m65\u001b[39m\n\u001b[1;32m----> 7\u001b[0m \u001b[43mredis_conn\u001b[49m\u001b[38;5;241m.\u001b[39mrpush(\u001b[38;5;124m'\u001b[39m\u001b[38;5;124mclassA:stu\u001b[39m\u001b[38;5;124m'\u001b[39m,\u001b[38;5;28mid\u001b[39m)\n\u001b[0;32m      8\u001b[0m redis_conn\u001b[38;5;241m.\u001b[39mhset(\u001b[38;5;124m'\u001b[39m\u001b[38;5;124mclassA:name\u001b[39m\u001b[38;5;124m'\u001b[39m,mapping\u001b[38;5;241m=\u001b[39m{\u001b[38;5;28mid\u001b[39m:name})\n\u001b[0;32m      9\u001b[0m redis_conn\u001b[38;5;241m.\u001b[39mhset(\u001b[38;5;124m'\u001b[39m\u001b[38;5;124mclassA:chinese\u001b[39m\u001b[38;5;124m'\u001b[39m,mapping\u001b[38;5;241m=\u001b[39m{\u001b[38;5;28mid\u001b[39m:chinese})\n",
      "\u001b[1;31mNameError\u001b[0m: name 'redis_conn' is not defined"
     ]
    }
   ],
   "source": [
    "id = 'stu01'\n",
    "name = \"徐國堂\"\n",
    "chinese = 78\n",
    "english = 92\n",
    "math = 65\n",
    "\n",
    "redis_conn.rpush('classA:stu',id)\n",
    "redis_conn.hset('classA:name',mapping={id:name})\n",
    "redis_conn.hset('classA:chinese',mapping={id:chinese})\n",
    "redis_conn.hset('classA:english',mapping={id:english})\n",
    "redis_conn.hset('classA:math',mapping={id:math})"
   ]
  }
 ],
 "metadata": {
  "kernelspec": {
   "display_name": "Python 3",
   "language": "python",
   "name": "python3"
  },
  "language_info": {
   "codemirror_mode": {
    "name": "ipython",
    "version": 3
   },
   "file_extension": ".py",
   "mimetype": "text/x-python",
   "name": "python",
   "nbconvert_exporter": "python",
   "pygments_lexer": "ipython3",
   "version": "3.10.8"
  }
 },
 "nbformat": 4,
 "nbformat_minor": 2
}
