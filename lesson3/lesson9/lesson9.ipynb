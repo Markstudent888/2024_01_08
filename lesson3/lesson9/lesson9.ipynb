{
 "cells": [
  {
   "cell_type": "code",
   "execution_count": 12,
   "metadata": {},
   "outputs": [
    {
     "name": "stdout",
     "output_type": "stream",
     "text": [
      " [元素: 1 ], [元素: 4 ], [元素: 8 ], [元素: 0 ], [元素: 1 ], [元素: 4 ], [元素: 8 ], [元素: 0 ],"
     ]
    }
   ],
   "source": [
    "listb=(1,4,8,0,a1,a2,a3,a4)\n",
    "for i in listb:\n",
    "    print(\" [元素:\",i,\"]\",end =',')"
   ]
  },
  {
   "cell_type": "code",
   "execution_count": 13,
   "metadata": {},
   "outputs": [
    {
     "name": "stdout",
     "output_type": "stream",
     "text": [
      "artificial\n"
     ]
    }
   ],
   "source": [
    "codes ={'ad':'adition',\n",
    "        'art':'artificial',\n",
    "        'pr':'prove'}\n",
    "print(codes['art'])"
   ]
  },
  {
   "cell_type": "code",
   "execution_count": 14,
   "metadata": {},
   "outputs": [
    {
     "data": {
      "text/plain": [
       "{1, 2, 6, 9}"
      ]
     },
     "execution_count": 14,
     "metadata": {},
     "output_type": "execute_result"
    }
   ],
   "source": [
    "set1 ={1,2,6,9}\n",
    "set1"
   ]
  }
 ],
 "metadata": {
  "kernelspec": {
   "display_name": "Python 3",
   "language": "python",
   "name": "python3"
  },
  "language_info": {
   "codemirror_mode": {
    "name": "ipython",
    "version": 3
   },
   "file_extension": ".py",
   "mimetype": "text/x-python",
   "name": "python",
   "nbconvert_exporter": "python",
   "pygments_lexer": "ipython3",
   "version": "3.10.8"
  }
 },
 "nbformat": 4,
 "nbformat_minor": 2
}
